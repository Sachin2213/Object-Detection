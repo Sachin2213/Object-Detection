{
 "cells": [
  {
   "cell_type": "code",
   "execution_count": 27,
   "metadata": {},
   "outputs": [
    {
     "name": "stdout",
     "output_type": "stream",
     "text": [
      "Collecting scikit-learn\n",
      "  Using cached scikit_learn-0.24.2-cp36-cp36m-win_amd64.whl (6.8 MB)\n",
      "Requirement already satisfied: numpy>=1.13.3 in c:\\users\\pc-klinik\\anaconda3\\envs\\pytorch_env\\lib\\site-packages (from scikit-learn) (1.19.3)\n",
      "Collecting threadpoolctl>=2.0.0\n",
      "  Using cached threadpoolctl-3.1.0-py3-none-any.whl (14 kB)\n",
      "Collecting joblib>=0.11\n",
      "  Using cached joblib-1.1.0-py2.py3-none-any.whl (306 kB)\n",
      "Requirement already satisfied: scipy>=0.19.1 in c:\\users\\pc-klinik\\anaconda3\\envs\\pytorch_env\\lib\\site-packages (from scikit-learn) (1.5.4)\n",
      "Installing collected packages: threadpoolctl, joblib, scikit-learn\n",
      "Successfully installed joblib-1.1.0 scikit-learn-0.24.2 threadpoolctl-3.1.0\n"
     ]
    }
   ],
   "source": [
    "!pip install scikit-learn"
   ]
  },
  {
   "cell_type": "code",
   "execution_count": 38,
   "metadata": {},
   "outputs": [],
   "source": [
    "import os\n",
    "import shutil\n",
    "from tqdm import tqdm\n",
    "from glob import glob\n",
    "from sklearn.model_selection import train_test_split"
   ]
  },
  {
   "cell_type": "code",
   "execution_count": 43,
   "metadata": {},
   "outputs": [],
   "source": [
    "class_list = os.listdir(os.path.join(os.getcwd(),\"Custom_dataset\"))\n",
    "class_list\n",
    "\n",
    "if \"desktop.ini\" in class_list:\n",
    "    class_list.remove(\"desktop.ini\")"
   ]
  },
  {
   "cell_type": "code",
   "execution_count": 44,
   "metadata": {},
   "outputs": [],
   "source": [
    "def create_split(source_images, source_labels):\n",
    "    train_x, test_x = train_test_split(source_images, test_size=0.1, random_state=77)\n",
    "    train_y, test_y = train_test_split(source_labels, test_size=0.1, random_state=77)\n",
    "   \n",
    "    return (train_x, train_y), (test_x, test_y)"
   ]
  },
  {
   "cell_type": "code",
   "execution_count": 45,
   "metadata": {},
   "outputs": [
    {
     "name": "stdout",
     "output_type": "stream",
     "text": [
      "Bicycle\n"
     ]
    },
    {
     "name": "stderr",
     "output_type": "stream",
     "text": [
      "636it [00:01, 330.49it/s]\n",
      "71it [00:00, 466.59it/s]\n"
     ]
    },
    {
     "name": "stdout",
     "output_type": "stream",
     "text": [
      "Bike\n"
     ]
    },
    {
     "name": "stderr",
     "output_type": "stream",
     "text": [
      "777it [00:02, 305.52it/s]\n",
      "87it [00:00, 328.05it/s]\n"
     ]
    },
    {
     "name": "stdout",
     "output_type": "stream",
     "text": [
      "Bus\n"
     ]
    },
    {
     "name": "stderr",
     "output_type": "stream",
     "text": [
      "406it [00:01, 255.27it/s]\n",
      "46it [00:00, 354.53it/s]\n"
     ]
    },
    {
     "name": "stdout",
     "output_type": "stream",
     "text": [
      "Car\n"
     ]
    },
    {
     "name": "stderr",
     "output_type": "stream",
     "text": [
      "637it [00:02, 287.03it/s]\n",
      "71it [00:00, 490.04it/s]\n"
     ]
    },
    {
     "name": "stdout",
     "output_type": "stream",
     "text": [
      "Cng\n"
     ]
    },
    {
     "name": "stderr",
     "output_type": "stream",
     "text": [
      "479it [00:02, 161.76it/s]\n",
      "54it [00:00, 228.65it/s]\n"
     ]
    },
    {
     "name": "stdout",
     "output_type": "stream",
     "text": [
      "Truck\n"
     ]
    },
    {
     "name": "stderr",
     "output_type": "stream",
     "text": [
      "655it [00:08, 77.92it/s] \n",
      "73it [00:00, 276.27it/s]\n"
     ]
    }
   ],
   "source": [
    "training_img_path = os.path.join(os.getcwd(), \"Split_dataset\", \"Training\", \"Images\")\n",
    "training_yolo_path = os.path.join(os.getcwd(), \"Split_dataset\", \"Training\", \"Yolo_labels\")\n",
    "training_pascal_path = os.path.join(os.getcwd(), \"Split_dataset\", \"Training\", \"Pascal_labels\")\n",
    "\n",
    "testing_img_path = os.path.join(os.getcwd(), \"Split_dataset\", \"Testing\", \"Images\")\n",
    "testing_yolo_path = os.path.join(os.getcwd(), \"Split_dataset\", \"Testing\", \"Yolo_labels\")\n",
    "testing_pascal_path = os.path.join(os.getcwd(), \"Split_dataset\", \"Testing\", \"Pascal_labels\")\n",
    "\n",
    "\n",
    "for _dir in class_list:\n",
    "    print(_dir)\n",
    "    source_path = os.path.join(os.getcwd(),\"Custom_dataset\",_dir, \"images\")\n",
    "    yolo_path = os.path.join(os.getcwd(),\"Custom_dataset\",_dir, \"yolo_annotations\")\n",
    "    pascal_path = os.path.join(os.getcwd(),\"Custom_dataset\",_dir, \"annotations\")\n",
    "    \n",
    "    source_images = glob(os.path.join(source_path ,\"*.[jp][pn]g\"))\n",
    "    yolo_labels = glob(os.path.join(yolo_path,\"*.txt\"))\n",
    "    pascal_labels = glob(os.path.join(pascal_path,\"*.xml\"))\n",
    "    \n",
    "    (train_img, train_yolo), (test_img, test_yolo) = create_split(source_images, yolo_labels)\n",
    "    (_, train_pascal), (_, test_pascal) = create_split(source_images, pascal_labels)\n",
    "    \n",
    "    for img, yolo, pascal in tqdm(zip(train_img, train_yolo, train_pascal)):\n",
    "        img_basename = os.path.basename(img)\n",
    "        pascal_basename = os.path.basename(pascal)\n",
    "        yolo_basename = os.path.basename(yolo)\n",
    "        \n",
    "        shutil.copyfile(img, os.path.join(training_img_path, img_basename))\n",
    "        shutil.copyfile(yolo, os.path.join(training_yolo_path, yolo_basename))\n",
    "        shutil.copyfile(pascal, os.path.join(training_pascal_path, pascal_basename))\n",
    "        \n",
    "    for img, yolo, pascal in tqdm(zip(test_img, test_yolo, test_pascal)):\n",
    "        img_basename = os.path.basename(img)\n",
    "        pascal_basename = os.path.basename(pascal)\n",
    "        yolo_basename = os.path.basename(yolo)\n",
    "        \n",
    "        shutil.copyfile(img, os.path.join(testing_img_path, img_basename))\n",
    "        shutil.copyfile(yolo, os.path.join(testing_yolo_path, yolo_basename))\n",
    "        shutil.copyfile(pascal, os.path.join(testing_pascal_path, pascal_basename))"
   ]
  },
  {
   "cell_type": "code",
   "execution_count": null,
   "metadata": {},
   "outputs": [],
   "source": []
  }
 ],
 "metadata": {
  "kernelspec": {
   "display_name": "Python 3",
   "language": "python",
   "name": "python3"
  },
  "language_info": {
   "codemirror_mode": {
    "name": "ipython",
    "version": 3
   },
   "file_extension": ".py",
   "mimetype": "text/x-python",
   "name": "python",
   "nbconvert_exporter": "python",
   "pygments_lexer": "ipython3",
   "version": "3.8.5"
  }
 },
 "nbformat": 4,
 "nbformat_minor": 5
}
