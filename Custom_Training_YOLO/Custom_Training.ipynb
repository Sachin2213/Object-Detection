{
 "cells": [
  {
   "cell_type": "markdown",
   "id": "7371aa07",
   "metadata": {},
   "source": [
    "### Inastall Packages"
   ]
  },
  {
   "cell_type": "code",
   "execution_count": 1,
   "id": "7cd6c3f8",
   "metadata": {},
   "outputs": [],
   "source": [
    "import torch\n",
    "from matplotlib import pyplot as plt\n",
    "import numpy as np\n",
    "import cv2"
   ]
  },
  {
   "cell_type": "markdown",
   "id": "bdc5411a",
   "metadata": {},
   "source": [
    "### Training"
   ]
  },
  {
   "cell_type": "code",
   "execution_count": 4,
   "id": "b5d98dc4",
   "metadata": {},
   "outputs": [
    {
     "name": "stdout",
     "output_type": "stream",
     "text": [
      "^C\n"
     ]
    }
   ],
   "source": [
    "!cd yolov5 && python train.py --img 320 --batch 2 --epochs 10 --data dataset.yaml --weights yolov5s.pt --workers 1"
   ]
  },
  {
   "cell_type": "code",
   "execution_count": null,
   "id": "33bd6f41",
   "metadata": {},
   "outputs": [],
   "source": []
  }
 ],
 "metadata": {
  "kernelspec": {
   "display_name": "Python 3",
   "language": "python",
   "name": "python3"
  },
  "language_info": {
   "codemirror_mode": {
    "name": "ipython",
    "version": 3
   },
   "file_extension": ".py",
   "mimetype": "text/x-python",
   "name": "python",
   "nbconvert_exporter": "python",
   "pygments_lexer": "ipython3",
   "version": "3.6.9"
  }
 },
 "nbformat": 4,
 "nbformat_minor": 5
}
